{
 "cells": [
  {
   "cell_type": "code",
   "execution_count": 4,
   "metadata": {
    "ExecuteTime": {
     "end_time": "2019-11-07T12:14:36.594191Z",
     "start_time": "2019-11-07T12:14:36.591432Z"
    }
   },
   "outputs": [],
   "source": [
    "import codecs\n",
    "import csv\n",
    "import re\n",
    "from Levenshtein import distance\n",
    "from tqdm import tqdm_notebook as tqdm\n",
    "DATASET_PATH = '/Users/aleksandr.fedotov/Downloads/dataset_37845_1.txt'\n",
    "DICTIONARY_PATH = 'data/odict.csv'\n",
    "DICTIONARY_OPCORPORA_PATH = 'data/dict.opcorpora.txt'"
   ]
  },
  {
   "cell_type": "code",
   "execution_count": 2,
   "metadata": {
    "ExecuteTime": {
     "end_time": "2019-11-07T12:14:15.599340Z",
     "start_time": "2019-11-07T12:14:15.593388Z"
    }
   },
   "outputs": [],
   "source": [
    "S = 'S'\n",
    "A = 'A'\n",
    "V = 'V'\n",
    "PR = 'PR'\n",
    "CONJ = 'CONJ'\n",
    "ADV = 'ADV'\n",
    "pos_map = {'межд.': ADV,\n",
    " 'с': S,\n",
    " 'союз': CONJ,\n",
    " 'част.': ADV,\n",
    " 'ж': S,\n",
    " 'м': S,\n",
    " 'п': A,\n",
    " 'мо': S,\n",
    " 'жо': S,\n",
    " 'св-нсв':V,\n",
    " 'н': ADV,\n",
    " 'вводн.': ADV,\n",
    " 'нсв': V,\n",
    " 'мн.': S,\n",
    " 'св': V,\n",
    " 'предл.': PR,\n",
    " 'предик.': ADV,\n",
    " 'мо-жо': S,\n",
    " 'со': S,\n",
    " 'сравн.': ADV,\n",
    " 'мс-п': ADV,\n",
    " 'числ.-п': A,\n",
    " 'числ.': ADV}\n",
    "pos_map_opcorpora = {\n",
    " 'NOUN': S,\n",
    " 'ADVB': ADV,\n",
    " 'ADJF': A,\n",
    " 'ADJS': A,\n",
    " 'COMP': A,\n",
    " 'VERB': V,\n",
    " 'INFN': V,\n",
    " 'PRTF': V,\n",
    " 'PRTS': A,\n",
    " 'GRND': V,\n",
    " 'CONJ': CONJ,\n",
    " 'INTJ': ADV,\n",
    " 'PRCL': ADV,\n",
    " 'PREP': PR,\n",
    " 'PRED': ADV,\n",
    " 'NUMR': ADV,\n",
    " 'NPRO': ADV}"
   ]
  },
  {
   "cell_type": "code",
   "execution_count": 22,
   "metadata": {
    "ExecuteTime": {
     "end_time": "2019-11-07T13:15:56.698236Z",
     "start_time": "2019-11-07T13:15:56.690483Z"
    }
   },
   "outputs": [
    {
     "data": {
      "text/plain": [
       "[('NOUN',\n",
       "  ['еж',\n",
       "   'еж',\n",
       "   'ежик',\n",
       "   'елка',\n",
       "   'елочка',\n",
       "   'емкость',\n",
       "   'ера',\n",
       "   'ерник',\n",
       "   'ерш',\n",
       "   'ерш',\n",
       "   'ершик',\n",
       "   'ершик',\n",
       "   'а-конто',\n",
       "   'а-ось',\n",
       "   'ааво',\n",
       "   'аавович',\n",
       "   'аавовна',\n",
       "   'аамир',\n",
       "   'аамирович',\n",
       "   'аамировна']),\n",
       " ('ADVB',\n",
       "  ['ежиком',\n",
       "   'абазински',\n",
       "   'абсолютно',\n",
       "   'абстрактно',\n",
       "   'абсурдно',\n",
       "   'абхазски',\n",
       "   'авансом',\n",
       "   'аварски',\n",
       "   'автоматически',\n",
       "   'авторски',\n",
       "   'адекватно',\n",
       "   'аджарски',\n",
       "   'адски',\n",
       "   'адыгейски',\n",
       "   'ажурно',\n",
       "   'азартно',\n",
       "   'азиатски',\n",
       "   'азовски',\n",
       "   'айсорски',\n",
       "   'аккордно']),\n",
       " ('ADJF',\n",
       "  ['ежистый',\n",
       "   'елочный',\n",
       "   'емкий',\n",
       "   'емкостный',\n",
       "   'ернический',\n",
       "   'абабковский',\n",
       "   'абагайтуйский',\n",
       "   'абагурский',\n",
       "   'абадзехский',\n",
       "   'абажурный',\n",
       "   'абазинский',\n",
       "   'абайский',\n",
       "   'абакановский',\n",
       "   'абаканский',\n",
       "   'абакумовский',\n",
       "   'абалаковский',\n",
       "   'абанский',\n",
       "   'абатский',\n",
       "   'абашевский',\n",
       "   'аббакумовский']),\n",
       " ('ADJS',\n",
       "  ['ежист',\n",
       "   'емок',\n",
       "   'емкостен',\n",
       "   'абажурен',\n",
       "   'аббревиатурен',\n",
       "   'абдоминален',\n",
       "   'абдукторен',\n",
       "   'аберрантен',\n",
       "   'аберрационен',\n",
       "   'абзацен',\n",
       "   'абиетинов',\n",
       "   'абиогенен',\n",
       "   'абиссален',\n",
       "   'аблативен',\n",
       "   'абонементен',\n",
       "   'абонентен',\n",
       "   'аборален',\n",
       "   'абордажен',\n",
       "   'аборигенен',\n",
       "   'абортивен']),\n",
       " ('COMP',\n",
       "  ['ежистее',\n",
       "   'емче',\n",
       "   'емкостнее',\n",
       "   'абажурнее',\n",
       "   'аббревиатурнее',\n",
       "   'абдоминальнее',\n",
       "   'абдукторнее',\n",
       "   'аберрационнее',\n",
       "   'абзацнее',\n",
       "   'абиетиновее',\n",
       "   'абиссальнее',\n",
       "   'абонементнее',\n",
       "   'абонентнее',\n",
       "   'абордажнее',\n",
       "   'аборигеннее',\n",
       "   'абортивнее',\n",
       "   'абразивнее',\n",
       "   'абразионнее',\n",
       "   'абрикоснее',\n",
       "   'абрикосовее']),\n",
       " ('VERB',\n",
       "  ['ежу',\n",
       "   'ежусь',\n",
       "   'екнул',\n",
       "   'ерзаю',\n",
       "   'ерничаю',\n",
       "   'аблактировал',\n",
       "   'аблактирую',\n",
       "   'абонировал',\n",
       "   'абонирую',\n",
       "   'абонировался',\n",
       "   'абонируюсь',\n",
       "   'абордировал',\n",
       "   'абордирую',\n",
       "   'абортировал',\n",
       "   'абортирую',\n",
       "   'абсолютизировал',\n",
       "   'абсолютизирую',\n",
       "   'абсорбировал',\n",
       "   'абсорбирую',\n",
       "   'абсорбировался']),\n",
       " ('INFN',\n",
       "  ['ежить',\n",
       "   'ежиться',\n",
       "   'екнуть',\n",
       "   'ерзать',\n",
       "   'ерничать',\n",
       "   'аблактировать',\n",
       "   'аблактировать',\n",
       "   'абонировать',\n",
       "   'абонировать',\n",
       "   'абонироваться',\n",
       "   'абонироваться',\n",
       "   'абордировать',\n",
       "   'абордировать',\n",
       "   'абортировать',\n",
       "   'абортировать',\n",
       "   'абсолютизировать',\n",
       "   'абсолютизировать',\n",
       "   'абсорбировать',\n",
       "   'абсорбировать',\n",
       "   'абсорбироваться']),\n",
       " ('PRTF',\n",
       "  ['ежимый',\n",
       "   'ежащийся',\n",
       "   'ежившийся',\n",
       "   'екнувший',\n",
       "   'ерзающий',\n",
       "   'ерзавший',\n",
       "   'ерничающий',\n",
       "   'ерничавший',\n",
       "   'аблактирующий',\n",
       "   'аблактировавший',\n",
       "   'аблактировавший',\n",
       "   'аблактируемый',\n",
       "   'аблактированный',\n",
       "   'аблактированный',\n",
       "   'абонирующий',\n",
       "   'абонировавший',\n",
       "   'абонировавший',\n",
       "   'абонируемый',\n",
       "   'абонированный',\n",
       "   'абонированный']),\n",
       " ('PRTS',\n",
       "  ['ежим',\n",
       "   'аблактируем',\n",
       "   'аблактирован',\n",
       "   'аблактирован',\n",
       "   'абонируем',\n",
       "   'абонирован',\n",
       "   'абонирован',\n",
       "   'абордируем',\n",
       "   'абордирован',\n",
       "   'абордирован',\n",
       "   'абортируем',\n",
       "   'абортирован',\n",
       "   'абортирован',\n",
       "   'абсолютизируем',\n",
       "   'абсолютизирован',\n",
       "   'абсолютизирован',\n",
       "   'абсорбируем',\n",
       "   'абсорбирован',\n",
       "   'абсорбирован',\n",
       "   'абстрагируем']),\n",
       " ('GRND',\n",
       "  ['ежа',\n",
       "   'ежась',\n",
       "   'екнув',\n",
       "   'ерзая',\n",
       "   'ерничая',\n",
       "   'аблактировав',\n",
       "   'аблактируя',\n",
       "   'абонировав',\n",
       "   'абонируя',\n",
       "   'абонировавшись',\n",
       "   'абонируясь',\n",
       "   'абордировав',\n",
       "   'абордируя',\n",
       "   'абортировав',\n",
       "   'абортируя',\n",
       "   'абсолютизировав',\n",
       "   'абсолютизируя',\n",
       "   'абсорбировав',\n",
       "   'абсорбируя',\n",
       "   'абсорбировавшись']),\n",
       " ('CONJ',\n",
       "  ['а',\n",
       "   'абы',\n",
       "   'авось',\n",
       "   'аж',\n",
       "   'али',\n",
       "   'аль',\n",
       "   'ан',\n",
       "   'безусловно',\n",
       "   'бесспорно',\n",
       "   'благо',\n",
       "   'буде',\n",
       "   'будто',\n",
       "   'бывало',\n",
       "   'бывалоча',\n",
       "   'в-восьмых',\n",
       "   'в-девятых',\n",
       "   'в-десятых',\n",
       "   'в-пятых',\n",
       "   'в-седьмых',\n",
       "   'в-третьих']),\n",
       " ('INTJ',\n",
       "  ['а',\n",
       "   'ага',\n",
       "   'агу',\n",
       "   'ай',\n",
       "   'айда',\n",
       "   'аллилуйя',\n",
       "   'алло',\n",
       "   'амба',\n",
       "   'аминь',\n",
       "   'апорт',\n",
       "   'атанде',\n",
       "   'ату',\n",
       "   'ау',\n",
       "   'ах',\n",
       "   'ахти',\n",
       "   'ба',\n",
       "   'бабах',\n",
       "   'баиньки-баю',\n",
       "   'бай-бай',\n",
       "   'баста']),\n",
       " ('PRCL',\n",
       "  ['а',\n",
       "   'абы',\n",
       "   'авось',\n",
       "   'ага',\n",
       "   'аж',\n",
       "   'ан',\n",
       "   'б',\n",
       "   'бишь',\n",
       "   'будто',\n",
       "   'бы',\n",
       "   'было',\n",
       "   'ван',\n",
       "   'ведь',\n",
       "   'вишь',\n",
       "   'вон',\n",
       "   'вот',\n",
       "   'впрямь',\n",
       "   'вроде',\n",
       "   'все-таки',\n",
       "   'всего']),\n",
       " ('PREP',\n",
       "  ['а-ля',\n",
       "   'без',\n",
       "   'благодаря',\n",
       "   'близ',\n",
       "   'в',\n",
       "   'вблизи',\n",
       "   'ввиду',\n",
       "   'вдоль',\n",
       "   'взамен',\n",
       "   'включая',\n",
       "   'вкруг',\n",
       "   'вместо',\n",
       "   'вне',\n",
       "   'внизу',\n",
       "   'внутри',\n",
       "   'внутрь',\n",
       "   'вовнутрь',\n",
       "   'возле',\n",
       "   'вокруг',\n",
       "   'вопреки']),\n",
       " ('PRED',\n",
       "  ['амба',\n",
       "   'беда',\n",
       "   'боязно',\n",
       "   'велено',\n",
       "   'видать',\n",
       "   'видно',\n",
       "   'внакладе',\n",
       "   'внове',\n",
       "   'вольно',\n",
       "   'вправе',\n",
       "   'грех',\n",
       "   'дождливо',\n",
       "   'должно',\n",
       "   'жаль',\n",
       "   'жарковато',\n",
       "   'желательно',\n",
       "   'известно',\n",
       "   'квит',\n",
       "   'квиты',\n",
       "   'кранты']),\n",
       " ('NUMR',\n",
       "  ['восемнадцать',\n",
       "   'восемь',\n",
       "   'восемьдесят',\n",
       "   'восемьсот',\n",
       "   'восьмеро',\n",
       "   'два',\n",
       "   'двадцать',\n",
       "   'двенадцать',\n",
       "   'двести',\n",
       "   'двое',\n",
       "   'девяносто',\n",
       "   'девятеро',\n",
       "   'девятнадцать',\n",
       "   'девять',\n",
       "   'девятьсот',\n",
       "   'десятеро',\n",
       "   'десять',\n",
       "   'несколько',\n",
       "   'нисколечко',\n",
       "   'нисколько']),\n",
       " ('NPRO',\n",
       "  ['всякая',\n",
       "   'всякий',\n",
       "   'всякое',\n",
       "   'вы',\n",
       "   'кое-кто',\n",
       "   'кое-что',\n",
       "   'кой-кто',\n",
       "   'кой-что',\n",
       "   'кто',\n",
       "   'кто-либо',\n",
       "   'кто-нибудь',\n",
       "   'кто-то',\n",
       "   'любая',\n",
       "   'любой',\n",
       "   'многие',\n",
       "   'многое',\n",
       "   'мы',\n",
       "   'некого',\n",
       "   'некоторые',\n",
       "   'некто'])]"
      ]
     },
     "execution_count": 22,
     "metadata": {},
     "output_type": "execute_result"
    }
   ],
   "source": [
    "[(p, ws[:20])for p, ws in poses.items()]"
   ]
  },
  {
   "cell_type": "code",
   "execution_count": 11,
   "metadata": {
    "ExecuteTime": {
     "end_time": "2019-11-07T12:27:14.025348Z",
     "start_time": "2019-11-07T12:27:14.022074Z"
    }
   },
   "outputs": [
    {
     "data": {
      "text/plain": [
       "('если', 'CONJ')"
      ]
     },
     "execution_count": 11,
     "metadata": {},
     "output_type": "execute_result"
    }
   ],
   "source": [
    "dictionary_opcorpora['если']"
   ]
  },
  {
   "cell_type": "code",
   "execution_count": 7,
   "metadata": {
    "ExecuteTime": {
     "end_time": "2019-11-07T12:24:22.508464Z",
     "start_time": "2019-11-07T12:24:22.505184Z"
    }
   },
   "outputs": [
    {
     "data": {
      "text/plain": [
       "('про', 'S')"
      ]
     },
     "execution_count": 7,
     "metadata": {},
     "output_type": "execute_result"
    }
   ],
   "source": [
    "dictionary_opcorpora['про']"
   ]
  },
  {
   "cell_type": "code",
   "execution_count": 31,
   "metadata": {
    "ExecuteTime": {
     "end_time": "2019-11-07T13:25:34.207105Z",
     "start_time": "2019-11-07T13:25:29.254365Z"
    }
   },
   "outputs": [
    {
     "data": {
      "application/vnd.jupyter.widget-view+json": {
       "model_id": "e03f2b21f2d64af589231170831fc159",
       "version_major": 2,
       "version_minor": 0
      },
      "text/plain": [
       "HBox(children=(IntProgress(value=1, bar_style='info', max=1), HTML(value='')))"
      ]
     },
     "metadata": {},
     "output_type": "display_data"
    },
    {
     "name": "stdout",
     "output_type": "stream",
     "text": [
      "\n"
     ]
    }
   ],
   "source": [
    "dictionary = {}\n",
    "lines = []\n",
    "mains = []\n",
    "with codecs.open(DICTIONARY_PATH, 'r', 'cp1251') as csvfile:\n",
    "    reader = csv.reader(csvfile, delimiter=',', quotechar='|')\n",
    "    for row in tqdm(reader):\n",
    "        row = [r.lower().replace('ё', 'е') for r in row]\n",
    "        main = row[0]\n",
    "        pos = pos_map.get(row[1], row[1])\n",
    "        dictionary[main] = (main, pos)\n",
    "        mains.append(main)\n",
    "        if len(row) < 3:\n",
    "            continue\n",
    "        for f in row[2:]:\n",
    "            dictionary[f] = (main, pos)"
   ]
  },
  {
   "cell_type": "code",
   "execution_count": 12,
   "metadata": {
    "ExecuteTime": {
     "end_time": "2019-11-07T12:36:06.969082Z",
     "start_time": "2019-11-07T12:30:01.634982Z"
    }
   },
   "outputs": [
    {
     "data": {
      "application/vnd.jupyter.widget-view+json": {
       "model_id": "2c2bc24c1885491db3720ca25cd64c17",
       "version_major": 2,
       "version_minor": 0
      },
      "text/plain": [
       "HBox(children=(IntProgress(value=1, bar_style='info', max=1), HTML(value='')))"
      ]
     },
     "metadata": {},
     "output_type": "display_data"
    },
    {
     "name": "stdout",
     "output_type": "stream",
     "text": [
      "\n"
     ]
    }
   ],
   "source": [
    "dictionary_opcorpora = {}\n",
    "mains_opc = []\n",
    "poses = {}\n",
    "with open(DICTIONARY_OPCORPORA_PATH, 'r') as file:\n",
    "    cur_main = ''\n",
    "    new_word = True\n",
    "    for line in tqdm(file):\n",
    "        if line == '\\n':\n",
    "            continue\n",
    "        if line[:-1].isdecimal():\n",
    "            new_word = True\n",
    "            continue\n",
    "        line = line.split()\n",
    "        word = line[0].lower().replace('ё', 'е')\n",
    "        pos = pos_map_opcorpora[line[1].split(',')[0]]\n",
    "        if new_word:\n",
    "            new_word = False\n",
    "            cur_main = word\n",
    "            mains_opc.append(cur_main)\n",
    "            poses[line[1].split(',')[0]] = poses.get(line[1].split(',')[0], []) + [word]\n",
    "        dictionary_opcorpora[word] = dictionary_opcorpora.get(word, []) + [(cur_main, pos)]"
   ]
  },
  {
   "cell_type": "code",
   "execution_count": 18,
   "metadata": {
    "ExecuteTime": {
     "end_time": "2019-11-07T13:15:07.322161Z",
     "start_time": "2019-11-07T13:15:07.318770Z"
    }
   },
   "outputs": [],
   "source": [
    "def find_closest(token, mains):\n",
    "    min_r = 10000\n",
    "    main_res = ''\n",
    "    for main in mains:\n",
    "        d = distance(token, main)\n",
    "        if d < min_r:\n",
    "            main_res = main\n",
    "            min_r = d\n",
    "    print(token, main_res, min_r)\n",
    "    return main_res"
   ]
  },
  {
   "cell_type": "code",
   "execution_count": 19,
   "metadata": {
    "ExecuteTime": {
     "end_time": "2019-11-07T13:15:10.206266Z",
     "start_time": "2019-11-07T13:15:10.200182Z"
    }
   },
   "outputs": [],
   "source": [
    "def solve(dictionary, mains):\n",
    "    res = ''\n",
    "    c = 0\n",
    "    full_c = 0\n",
    "    with open(DATASET_PATH, 'r') as file:\n",
    "        for line in file:\n",
    "            tokens = re.split(r'[\\s,\\.\\?\\!]+', line)\n",
    "            tokens = [t for t in tokens if t != '']\n",
    "            for token in tokens:\n",
    "                prev_t = token\n",
    "                token = token.lower().replace('ё', 'е')\n",
    "                full_c += 1\n",
    "                if token not in dictionary:\n",
    "                    c += 1\n",
    "                    maybe_main = find_closest(token, mains)\n",
    "                    main, pos = dictionary[maybe_main][0]\n",
    "                else:\n",
    "                    main, pos = dictionary[token][0]\n",
    "                res += ' ' + prev_t + '{' + main + '=' + pos + '}'\n",
    "            res += '\\n'\n",
    "    print(f'{c}/{full_c}({int(c / full_c * 100)}%) are unknown')\n",
    "    return res"
   ]
  },
  {
   "cell_type": "code",
   "execution_count": 25,
   "metadata": {
    "ExecuteTime": {
     "end_time": "2019-11-07T13:18:32.302647Z",
     "start_time": "2019-11-07T13:18:29.086246Z"
    }
   },
   "outputs": [
    {
     "name": "stdout",
     "output_type": "stream",
     "text": [
      "лпх лех 1\n",
      "госрасходов городов 4\n",
      "флоринская лозинская 2\n",
      "микрофинансов минфинансов 3\n",
      "однонаправленности направленность 5\n",
      "асоуп агоп 2\n",
      "контрпродуктивный непродуктивный 4\n",
      "рм гм 1\n",
      "вакцинородственных вакцинированный 6\n",
      "оюл обл 1\n",
      "дункан букан 2\n",
      "кагальнинцы кагальник 3\n",
      "нудоль рудоль 1\n",
      "гильермо гиленко 3\n",
      "капетильо капель 3\n",
      "изауры заур 2\n",
      "строу строб 1\n",
      "сицилий сицилия 1\n",
      "18/3284(0%) are unknown\n"
     ]
    }
   ],
   "source": [
    "res = solve(dictionary_opcorpora, mains_opc)"
   ]
  },
  {
   "cell_type": "code",
   "execution_count": 35,
   "metadata": {
    "ExecuteTime": {
     "end_time": "2019-11-07T13:26:51.531772Z",
     "start_time": "2019-11-07T13:26:51.528781Z"
    }
   },
   "outputs": [],
   "source": [
    "def get_res(token, dictionary, mains):\n",
    "    if token not in dictionary:\n",
    "        maybe_main = find_closest(token, mains)\n",
    "        return dictionary[maybe_main][0]\n",
    "    else:\n",
    "        return dictionary[token][0]"
   ]
  },
  {
   "cell_type": "code",
   "execution_count": 36,
   "metadata": {
    "ExecuteTime": {
     "end_time": "2019-11-07T13:26:55.519652Z",
     "start_time": "2019-11-07T13:26:55.513760Z"
    }
   },
   "outputs": [],
   "source": [
    "def solve2():\n",
    "    res = ''\n",
    "    c = 0\n",
    "    full_c = 0\n",
    "    with open(DATASET_PATH, 'r') as file:\n",
    "        for line in file:\n",
    "            tokens = re.split(r'[\\s,\\.\\?\\!]+', line)\n",
    "            tokens = [t for t in tokens if t != '']\n",
    "            for token in tokens:\n",
    "                prev_t = token\n",
    "                token = token.lower().replace('ё', 'е')\n",
    "                full_c += 1\n",
    "                main_o, pos = get_res(token, dictionary_opcorpora, mains_opc)\n",
    "                if token not in dictionary:\n",
    "                    c += 1\n",
    "                    main = main_o\n",
    "                else:\n",
    "                    main, _ = dictionary[token]\n",
    "                res += ' ' + prev_t + '{' + main + '=' + pos + '}'\n",
    "            res += '\\n'\n",
    "    print(f'{c}/{full_c}({int(c / full_c * 100)}%) are unknown')\n",
    "    return res"
   ]
  },
  {
   "cell_type": "code",
   "execution_count": 38,
   "metadata": {
    "ExecuteTime": {
     "end_time": "2019-11-07T13:27:29.050837Z",
     "start_time": "2019-11-07T13:27:22.833373Z"
    }
   },
   "outputs": [
    {
     "name": "stdout",
     "output_type": "stream",
     "text": [
      "замочаленный замолвленный 2\n",
      "ммд мед 1\n",
      "симагин самарин 2\n",
      "субурбанизации дезурбанизация 4\n",
      "отельчики котельчик 2\n",
      "миксобактерии нитробактерия 4\n",
      "ибор бор 1\n",
      "природников бродников 3\n",
      "мошков машков 1\n",
      "полуразрушенном неразрушенный 6\n",
      "равность давность 1\n",
      "остерсунде эстерсунд 2\n",
      "лютера литера 1\n",
      "кальвина альвина 1\n",
      "догнивания догнивая 2\n",
      "спонсируют анонсирую 3\n",
      "автосоревнования автовыравнивание 5\n",
      "автособытию автогонки 5\n",
      "бернес бернер 1\n",
      "трезвяк трезвя 1\n",
      "пейзажики пейзажист 2\n",
      "маурья марья 1\n",
      "доимперских имперски 3\n",
      "сапробиологический агробиологический 2\n",
      "митрофанушки митрофан 4\n",
      "еласы власы 1\n",
      "мешкова машкова 1\n",
      "психогенетики психогенез 4\n",
      "сгибовой силовой 2\n",
      "горбиманией германий 4\n",
      "визенталь вежеталь 3\n",
      "нераненый неграненый 1\n",
      "равноудаленности равноудаленный 4\n",
      "доули долли 1\n",
      "305/3513(8%) are unknown\n"
     ]
    }
   ],
   "source": [
    "res = solve2()"
   ]
  },
  {
   "cell_type": "code",
   "execution_count": 39,
   "metadata": {
    "ExecuteTime": {
     "end_time": "2019-11-07T13:27:33.118824Z",
     "start_time": "2019-11-07T13:27:33.115818Z"
    }
   },
   "outputs": [],
   "source": [
    "with open('res.txt', 'w') as rfile:\n",
    "    rfile.write(res)"
   ]
  },
  {
   "cell_type": "code",
   "execution_count": null,
   "metadata": {},
   "outputs": [],
   "source": []
  }
 ],
 "metadata": {
  "kernelspec": {
   "display_name": "Python 3",
   "language": "python",
   "name": "python3"
  },
  "language_info": {
   "codemirror_mode": {
    "name": "ipython",
    "version": 3
   },
   "file_extension": ".py",
   "mimetype": "text/x-python",
   "name": "python",
   "nbconvert_exporter": "python",
   "pygments_lexer": "ipython3",
   "version": "3.7.3"
  },
  "varInspector": {
   "cols": {
    "lenName": 16,
    "lenType": 16,
    "lenVar": 40
   },
   "kernels_config": {
    "python": {
     "delete_cmd_postfix": "",
     "delete_cmd_prefix": "del ",
     "library": "var_list.py",
     "varRefreshCmd": "print(var_dic_list())"
    },
    "r": {
     "delete_cmd_postfix": ") ",
     "delete_cmd_prefix": "rm(",
     "library": "var_list.r",
     "varRefreshCmd": "cat(var_dic_list()) "
    }
   },
   "types_to_exclude": [
    "module",
    "function",
    "builtin_function_or_method",
    "instance",
    "_Feature"
   ],
   "window_display": false
  }
 },
 "nbformat": 4,
 "nbformat_minor": 2
}
